{
 "cells": [
  {
   "cell_type": "markdown",
   "metadata": {
    "_cell_guid": "b1076dfc-b9ad-4769-8c92-a6c4dae69d19",
    "_uuid": "8f2839f25d086af736a60e9eeb907d3b93b6e0e5"
   },
   "source": [
    "# Aygaz Görüntü İşleme Bootcamp 🎓"
   ]
  },
  {
   "cell_type": "markdown",
   "metadata": {},
   "source": [
    "## 🔎 Projenin Amacı:"
   ]
  },
  {
   "cell_type": "markdown",
   "metadata": {},
   "source": [
    "📌 Bu projenin amacı, Convolutional Neural Networks (CNN) modellerinin temel prensiplerini pekiştirmek ve bu modelleri hayvan türlerini sınıflandırma gibi bir görevde uygulamalı olarak kullanmaktır.\n",
    "\n",
    "**Proje kapsamında:**\n",
    "\n",
    "* CNN modelinin tasarlanması ve test edilmesi ile 10 farklı hayvan sınıfının ayrımı yapılacak. Bu sınıflar: collie, dolphin, elephant, fox, moose, rabbit, sheep, squirrel, giant panda ve polar bear\n",
    "* Modelin, farklı ışık koşullarında manipüle edilmiş resimler üzerindeki performansı test edilecek ve bu durumun neden olduğu değişiklikler incelenecek.\n",
    "* Renk sabitliği algoritmaları gibi tekniklerle manipülasyonların etkisi azaltılmaya çalışılacak ve modelin performansı tekrar değerlendirilecek.\n",
    "* Son olarak, üç farklı test senaryosunun sonuçları raporlanacak ve çözüm önerileri sunulacak."
   ]
  },
  {
   "cell_type": "markdown",
   "metadata": {
    "execution": {
     "iopub.execute_input": "2024-12-21T10:39:17.812351Z",
     "iopub.status.busy": "2024-12-21T10:39:17.811954Z",
     "iopub.status.idle": "2024-12-21T10:39:17.822904Z",
     "shell.execute_reply": "2024-12-21T10:39:17.821042Z",
     "shell.execute_reply.started": "2024-12-21T10:39:17.812321Z"
    }
   },
   "source": [
    "# 1) Kütüphanelerin Yüklenmesi 📚\n",
    "\n",
    "## 1. Sistem ve Dosya İşlemleri\n",
    "* **os:** Dosya ve dizin işlemleri (örneğin, veri seti klasörlerine erişim, dosyaları okuma/yazma) için kullanılır.\n",
    "## 2. Veri İşleme\n",
    "* **numpy:** Matematiksel işlemler, diziler (arrays), matrisler ve veri manipülasyonu için kullanılır.\n",
    "* **cv2 (OpenCV):** Görüntü işleme kütüphanesidir; görüntülerin okunması, boyutlandırılması, manipülasyonu gibi işlemlerde kullanılır.\n",
    "## 3. Veri Bölme ve Ön İşleme\n",
    "* **train_test_split:** Veriyi eğitim ve test setlerine rastgele ayırmak için kullanılır.\n",
    "* **LabelEncoder:** Kategorik etiketleri sayısal değerlere dönüştürmek için kullanılır.\n",
    "* **to_categorical:** Sayısal etiketleri tek-sıcak (one-hot) kodlamaya dönüştürür.\n",
    "## 4. Veri Artırma (Augmentation)\n",
    "* **ImageDataGenerator:** Eğitim verilerinde veri artırma (döndürme, kırpma, ölçekleme gibi manipülasyonlar) işlemleri için kullanılır.\n",
    "## 5. Model Oluşturma\n",
    "* **Sequential:** Katmanların sıralı bir şekilde birleştirildiği bir derin öğrenme modeli tanımlamak için kullanılır.\n",
    "* **Conv2D:** 2D konvolüsyon (evrişim) katmanı; görüntü özelliklerini çıkarır.\n",
    "* **MaxPooling2D:** Özellik haritasının boyutunu küçültmek ve bilgi yoğunluğunu artırmak için havuzlama işlemi yapar.\n",
    "* **Flatten:** Çok boyutlu çıktıyı tek boyutlu hale getirir.\n",
    "* **Dense:** Tam bağlantılı katman; sinir ağı nöronlarının çıkışını hesaplar.\n",
    "* **Dropout:** Aşırı öğrenmeyi (overfitting) önlemek için rastgele nöronları devre dışı bırakır.\n",
    "* **Input:** Modelin giriş boyutunu tanımlamak için kullanılır.\n",
    "## 6. Optimizasyon\n",
    "* **Adam:** Bir optimizasyon algoritması; öğrenme sürecini hızlandırır ve modelin daha hızlı yakınsamasını sağlar.\n",
    "## 7. Görselleştirme\n",
    "* **matplotlib.pyplot:** Eğitim süreçlerini ve sonuçları (örneğin, doğruluk ve kayıp grafikleri) görselleştirmek için kullanılır."
   ]
  },
  {
   "cell_type": "code",
   "execution_count": 18,
   "metadata": {
    "execution": {
     "iopub.execute_input": "2024-12-21T11:15:38.961784Z",
     "iopub.status.busy": "2024-12-21T11:15:38.961453Z",
     "iopub.status.idle": "2024-12-21T11:15:38.967717Z",
     "shell.execute_reply": "2024-12-21T11:15:38.966779Z",
     "shell.execute_reply.started": "2024-12-21T11:15:38.961757Z"
    }
   },
   "outputs": [],
   "source": [
    "import os\n",
    "import numpy as np\n",
    "import cv2\n",
    "from sklearn.model_selection import train_test_split\n",
    "from sklearn.preprocessing import LabelEncoder\n",
    "from tensorflow.keras.utils import to_categorical\n",
    "from tensorflow.keras.preprocessing.image import ImageDataGenerator\n",
    "from tensorflow.keras.models import Sequential\n",
    "from tensorflow.keras.layers import Conv2D, MaxPooling2D, Flatten, Dense, Dropout, Input\n",
    "from tensorflow.keras.optimizers import Adam\n",
    "import matplotlib.pyplot as plt"
   ]
  },
  {
   "cell_type": "markdown",
   "metadata": {},
   "source": [
    "## 8. Uyarıları Görmezden Gelme\n",
    "* **warnings:** Python'da uyarı mesajlarını görmezden gelmek için kullanılır. Özellikle uyarı mesajlarının çıktıları doldurmasını istemediğiniz durumlarda tercih edilir."
   ]
  },
  {
   "cell_type": "code",
   "execution_count": 19,
   "metadata": {
    "execution": {
     "iopub.execute_input": "2024-12-21T11:15:38.968793Z",
     "iopub.status.busy": "2024-12-21T11:15:38.968592Z",
     "iopub.status.idle": "2024-12-21T11:15:38.981129Z",
     "shell.execute_reply": "2024-12-21T11:15:38.980380Z",
     "shell.execute_reply.started": "2024-12-21T11:15:38.968776Z"
    }
   },
   "outputs": [],
   "source": [
    "import warnings \n",
    "warnings.filterwarnings(\"ignore\")"
   ]
  },
  {
   "cell_type": "markdown",
   "metadata": {},
   "source": [
    "# 2) Veri Setinin Hazırlanması ve Dengelenmesi 💎\n",
    "\n",
    "🔎 Bu kod, Animals with Attributes 2 veri setinden belirli sınıfları seçmek ve her sınıftan eşit sayıda görseli filtreleyerek düzenli bir şekilde organize etmek için hazırlanmıştır. Bu işlem, sınıflar arasında dengeli bir veri seti oluşturmayı amaçlar ve derin öğrenme modellerinin daha iyi performans göstermesine katkı sağlar.\n",
    "\n",
    "## Kodun İşlevi\n",
    "* Orijinal veri setinden yalnızca belirli sınıflar seçilir.\n",
    "* Her sınıftan maksimum 650 görsel alınır.\n",
    "* Seçilen görseller, sınıf adlarına göre organize edilerek yeni bir klasöre kaydedilir.\n",
    "## Neden Bu İşlemi Yapıyoruz?\n",
    "* Dengeli Veri Seti: Sınıflar arasında eşit sayıda örnek, modelin her sınıfı adil şekilde öğrenmesini sağlar.\n",
    "* Veri Temizliği: Sadece gerekli sınıflar ve belirli sayıda görsel kullanılarak veri seti optimize edilir.\n",
    "* Organizasyon: Filtrelenmiş veri, daha sonraki işlemler için düzenli bir yapıya kavuşturulur.\n",
    "## Kod Adımları\n",
    "1. Veri setinin ve hedef klasörün yolları tanımlanır.\n",
    "2. Kullanılacak sınıflar ve her sınıf için alınacak maksimum görsel sayısı belirlenir.\n",
    "3. Hedef klasör oluşturulur.\n",
    "4. Her sınıf için:\n",
    " * İlk 650 görsel seçilir.\n",
    " * Görseller hedef klasöre kaydedilir.\n",
    "5. İşlem tamamlandığında başarı mesajı görüntülenir.\n",
    "\n",
    "Şimdi, bu süreci gerçekleştiren kodu inceleyelim: 👇"
   ]
  },
  {
   "cell_type": "code",
   "execution_count": 20,
   "metadata": {
    "execution": {
     "iopub.execute_input": "2024-12-21T11:15:38.983265Z",
     "iopub.status.busy": "2024-12-21T11:15:38.983013Z",
     "iopub.status.idle": "2024-12-21T11:17:00.869514Z",
     "shell.execute_reply": "2024-12-21T11:17:00.868785Z",
     "shell.execute_reply.started": "2024-12-21T11:15:38.983246Z"
    }
   },
   "outputs": [
    {
     "name": "stdout",
     "output_type": "stream",
     "text": [
      "Veri seti hazırlandı ve dengelendi.\n"
     ]
    }
   ],
   "source": [
    "# Veri seti klasörlerinin yolları\n",
    "source_dir = \"/kaggle/input/animals-with-attributes-2/Animals_with_Attributes2/JPEGImages\"  # Orijinal veri setinin bulunduğu klasör yolu\n",
    "target_dir = \"FilteredImages\"  # Filtrelenmiş ve dengelenmiş verilerin kaydedileceği yeni klasör\n",
    "\n",
    "# Kullanılacak sınıflar\n",
    "selected_classes = [\"collie\", \"dolphin\", \"elephant\", \"fox\", \"moose\", \"rabbit\", \"sheep\", \"squirrel\", \"giant+panda\", \"polar+bear\"]\n",
    "images_per_class = 650 # Görsel sayısı belirleniyor\n",
    "\n",
    "# Filtreleme\n",
    "os.makedirs(target_dir, exist_ok=True)\n",
    "for class_name in selected_classes:\n",
    "    class_path = os.path.join(source_dir, class_name)\n",
    "    target_path = os.path.join(target_dir, class_name)\n",
    "    os.makedirs(target_path, exist_ok=True)\n",
    "    for i, file_name in enumerate(os.listdir(class_path)):\n",
    "        if i >= images_per_class:\n",
    "            break\n",
    "        full_file_name = os.path.join(class_path, file_name)\n",
    "        if os.path.isfile(full_file_name):\n",
    "            cv2.imwrite(os.path.join(target_path, file_name), cv2.imread(full_file_name))\n",
    "print(\"Veri seti hazırlandı ve dengelendi.\")"
   ]
  },
  {
   "cell_type": "markdown",
   "metadata": {},
   "source": [
    "# 3) Boyutlandırma ve Normalizasyon 📏 \n",
    "\n",
    "Bu projede, bir klasör yapısında bulunan görüntüleri işleyerek model eğitimine uygun hale getirmek için bir Python fonksiyonu yazılmıştır. Fonksiyon aşağıdaki işlemleri gerçekleştirir:\n",
    "\n",
    "1. **Görüntülerin Yüklenmesi**:\n",
    "   - Klasör yapısındaki her bir sınıf için görüntüler `cv2.imread` kullanılarak okunur.\n",
    "\n",
    "2. **Görüntü Boyutlandırma**:\n",
    "   - Görüntüler, her bir modelin sabit giriş boyutunu karşılaması için `cv2.resize` ile 128x128 piksel boyutuna ölçeklendirilir.\n",
    "\n",
    "3. **Görüntü Normalizasyonu**:\n",
    "   - Piksel değerleri 0-255 aralığından 0-1 aralığına taşınır (`img_resized / 255.0`). Bu işlem modelin daha hızlı ve kararlı öğrenmesini sağlar.\n",
    "\n",
    "4. **Etiket Atama**:\n",
    "   - Görüntülerin ait olduğu sınıflar, klasör adları ile ilişkilendirilir ve her görüntüye etiket olarak atanır.\n",
    "\n",
    "5. **Veri Dönüşümü**:\n",
    "   - İşlenen görüntüler ve etiketler `numpy` dizileri olarak döndürülür."
   ]
  },
  {
   "cell_type": "code",
   "execution_count": 21,
   "metadata": {
    "execution": {
     "iopub.execute_input": "2024-12-21T11:17:00.870932Z",
     "iopub.status.busy": "2024-12-21T11:17:00.870662Z",
     "iopub.status.idle": "2024-12-21T11:17:39.749629Z",
     "shell.execute_reply": "2024-12-21T11:17:39.748770Z",
     "shell.execute_reply.started": "2024-12-21T11:17:00.870892Z"
    }
   },
   "outputs": [
    {
     "name": "stdout",
     "output_type": "stream",
     "text": [
      "Veri kümesi boyutu: (6500, 128, 128, 3)\n"
     ]
    }
   ],
   "source": [
    "# Görüntülerin işlenmesi (128x128 boyutlandırma ve normalizasyon)\n",
    "def load_and_process_images(data_dir, image_size=(128, 128)):\n",
    "    images = []\n",
    "    labels = []\n",
    "    for class_name in os.listdir(data_dir):\n",
    "        class_path = os.path.join(data_dir, class_name)\n",
    "        if os.path.isdir(class_path):\n",
    "            for file_name in os.listdir(class_path):\n",
    "                file_path = os.path.join(class_path, file_name)\n",
    "                img = cv2.imread(file_path)\n",
    "                if img is not None:\n",
    "                    img_resized = cv2.resize(img, image_size)\n",
    "                    img_normalized = img_resized / 255.0\n",
    "                    images.append(img_normalized)\n",
    "                    labels.append(class_name)\n",
    "    return np.array(images), np.array(labels)\n",
    "\n",
    "data_dir = target_dir\n",
    "X, y = load_and_process_images(data_dir)\n",
    "print(f\"Veri kümesi boyutu: {X.shape}\")"
   ]
  },
  {
   "cell_type": "markdown",
   "metadata": {},
   "source": [
    "# 4) Veriyi Eğitim ve Test Seti Olarak Ayırma 🏹\n",
    "\n",
    "Bu aşamada, görüntülerin etiketleri sayısal ve tekil formata dönüştürülmüş, ardından veri eğitim ve test kümelerine ayrılmıştır. \n",
    "\n",
    "### Adımlar\n",
    "\n",
    "#### 1. Etiketlerin Dönüştürülmesi\n",
    "Görüntülerin sınıf etiketleri, makine öğrenimi modellerine uygun hale getirilir:\n",
    "- **Sayısal Dönüşüm**: `LabelEncoder` kullanılarak sınıf adları sayısal değerlere dönüştürülür.\n",
    "- **One-Hot Encoding**: `to_categorical` ile sayısal değerler, tekil formata çevrilir. Bu, özellikle çok sınıflı sınıflandırma problemlerinde kullanılır.\n",
    "\n",
    "#### 2. Verinin Bölünmesi\n",
    "- Veriler `train_test_split` ile eğitim ve test kümelerine ayrılır.\n",
    "- Eğitim veri kümesi: %70\n",
    "- Test veri kümesi: %30\n",
    "- `random_state=42` parametresi ile rastgelelik sabitlenir.\n"
   ]
  },
  {
   "cell_type": "code",
   "execution_count": 22,
   "metadata": {
    "execution": {
     "iopub.execute_input": "2024-12-21T11:17:39.750740Z",
     "iopub.status.busy": "2024-12-21T11:17:39.750493Z",
     "iopub.status.idle": "2024-12-21T11:17:40.481852Z",
     "shell.execute_reply": "2024-12-21T11:17:40.481015Z",
     "shell.execute_reply.started": "2024-12-21T11:17:39.750708Z"
    }
   },
   "outputs": [
    {
     "name": "stdout",
     "output_type": "stream",
     "text": [
      "Eğitim veri boyutu: (4550, 128, 128, 3), Test veri boyutu: (1950, 128, 128, 3)\n"
     ]
    }
   ],
   "source": [
    "# Etiketlerin dönüştürülmesi\n",
    "from sklearn.preprocessing import LabelEncoder\n",
    "from tensorflow.keras.utils import to_categorical\n",
    "\n",
    "encoder = LabelEncoder()\n",
    "y_encoded = encoder.fit_transform(y)\n",
    "y_categorical = to_categorical(y_encoded)\n",
    "\n",
    "# Veriyi bölme (%70 eğitim, %30 test)\n",
    "X_train, X_test, y_train, y_test = train_test_split(X, y_categorical, test_size=0.3, random_state=42)\n",
    "print(f\"Eğitim veri boyutu: {X_train.shape}, Test veri boyutu: {X_test.shape}\")"
   ]
  },
  {
   "cell_type": "markdown",
   "metadata": {},
   "source": [
    "# 5) Veri Artırma (Data Augmentation) 📍\n",
    "\n",
    "**Veri artırma**, görüntü sınıflandırma problemlerinde eğitim veri setini çeşitlendirmek için kullanılan bir tekniktir. Bu, özellikle sınırlı sayıda veri bulunan durumlarda modelin genelleme yeteneğini artırmak için önemlidir.\n",
    "\n",
    "### Kullanılan Teknikler\n",
    "`ImageDataGenerator` sınıfı ile aşağıdaki veri artırma işlemleri uygulanmıştır:\n",
    "1. **Döndürme (`rotation_range`)**:\n",
    "   - Görüntüler rastgele 20 dereceye kadar döndürüldü.\n",
    "2. **Kaydırma**:\n",
    "   - **Genişlik (`width_shift_range`)**: Görüntüler yatayda %20 oranına kadar kaydırıldı.\n",
    "   - **Yükseklik (`height_shift_range`)**: Görüntüler dikeyde %20 oranına kadar kaydırıldı.\n",
    "3. **Kesme (`shear_range`)**:\n",
    "   - Görüntülere 0.2 oranında kesme işlemi uygulandı.\n",
    "4. **Yakınlaştırma (`zoom_range`)**:\n",
    "   - Görüntüler %20 oranında yakınlaştırıldı.\n",
    "5. **Aynalama (`horizontal_flip`)**:\n",
    "   - Görüntüler yatay olarak ters çevrildi.\n",
    "6. **Dolgu Modu (`fill_mode`)**:\n",
    "   - Manipülasyon sırasında oluşan boş alanlar, en yakın piksel değerleri ile dolduruldu."
   ]
  },
  {
   "cell_type": "code",
   "execution_count": 23,
   "metadata": {
    "execution": {
     "iopub.execute_input": "2024-12-21T11:17:40.482854Z",
     "iopub.status.busy": "2024-12-21T11:17:40.482624Z",
     "iopub.status.idle": "2024-12-21T11:17:41.128624Z",
     "shell.execute_reply": "2024-12-21T11:17:41.127955Z",
     "shell.execute_reply.started": "2024-12-21T11:17:40.482824Z"
    }
   },
   "outputs": [],
   "source": [
    "# Veri artırma işlemi\n",
    "datagen = ImageDataGenerator(\n",
    "    rotation_range=20,\n",
    "    width_shift_range=0.2,\n",
    "    height_shift_range=0.2,\n",
    "    shear_range=0.2,\n",
    "    zoom_range=0.2,\n",
    "    horizontal_flip=True,\n",
    "    fill_mode='nearest'\n",
    ")\n",
    "datagen.fit(X_train)"
   ]
  },
  {
   "cell_type": "markdown",
   "metadata": {},
   "source": [
    "# 6) CNN Modeli\n",
    "\n",
    "Bu kod, görüntü sınıflandırma problemini çözmek için kullanılan bir **Evrişimsel Sinir Ağı (CNN)** modeli oluşturur.\n",
    "\n",
    "### Model Mimarisi\n",
    "1. **Giriş Katmanı**:\n",
    "   - Giriş boyutu `(128, 128, 3)` olarak belirtilmiştir (128x128 piksel ve 3 renk kanalı - RGB).\n",
    "\n",
    "2. **Evrişim Katmanı**:\n",
    "   - 32 adet `(3x3)` filtre kullanılarak evrişim işlemi gerçekleştirilir.\n",
    "   - Aktivasyon fonksiyonu: `ReLU`\n",
    "   - Bu katman, görüntüden kenar ve doku gibi özellikleri öğrenir.\n",
    "\n",
    "3. **Havuzlama Katmanı**:\n",
    "   - `MaxPooling2D` kullanılarak havuzlama işlemi gerçekleştirilir (`pool_size=(2, 2)`).\n",
    "   - Bu işlem, boyutu küçülterek modelin hesaplama yükünü azaltır ve aşırı öğrenme riskini düşürür.\n",
    "\n",
    "4. **Düzleştirme Katmanı**:\n",
    "   - Çok boyutlu özellik haritaları, tam bağlantılı katmanlarda kullanılmak üzere tek boyutlu bir vektöre dönüştürülür.\n",
    "\n",
    "5. **Tam Bağlantılı Katmanlar**:\n",
    "   - İlk katman: 128 nöron ve `ReLU` aktivasyonu.\n",
    "   - Çıkış katmanı: 10 nöron ve `softmax` aktivasyonu.\n",
    "     - Bu katman, 10 sınıfta olasılık dağılımını verir."
   ]
  },
  {
   "cell_type": "code",
   "execution_count": 24,
   "metadata": {
    "execution": {
     "iopub.execute_input": "2024-12-21T11:17:41.129900Z",
     "iopub.status.busy": "2024-12-21T11:17:41.129563Z",
     "iopub.status.idle": "2024-12-21T11:17:41.159201Z",
     "shell.execute_reply": "2024-12-21T11:17:41.158344Z",
     "shell.execute_reply.started": "2024-12-21T11:17:41.129869Z"
    }
   },
   "outputs": [],
   "source": [
    "# CNN Modeli\n",
    "from tensorflow.keras.layers import Input\n",
    "\n",
    "model = Sequential([\n",
    "    Input(shape=(128, 128, 3)),  # Burada Input kullanılıyor\n",
    "    Conv2D(32, (3, 3), activation='relu'),\n",
    "    MaxPooling2D(pool_size=(2, 2)),\n",
    "    Flatten(),\n",
    "    Dense(128, activation='relu'),\n",
    "    Dense(10, activation='softmax')\n",
    "])"
   ]
  },
  {
   "cell_type": "markdown",
   "metadata": {},
   "source": [
    "# 7) CNN Modeli Derleme ve Eğitim Süreci\n",
    "\n",
    "Bu bölümde, oluşturulan CNN modeli derlenmiş ve veri artırma kullanılarak eğitilmiştir. Eğitim süreci, sınıflandırma problemini çözmek için tasarlanmıştır.\n",
    "\n",
    "---\n",
    "\n",
    "## 1. Modeli Derleme\n",
    "\n",
    "Modelin eğitim sürecine başlamadan önce, uygun bir optimizasyon algoritması, kayıp fonksiyonu ve değerlendirme metriği seçilmesi gereklidir. Bu projede:\n",
    "\n",
    "- **Optimizasyon Algoritması**: `Adam`\n",
    "  - Dinamik öğrenme oranı ile hızlı ve etkili bir öğrenme sağlar.\n",
    "- **Kayıp Fonksiyonu**: `Categorical Crossentropy`\n",
    "  - Çok sınıflı sınıflandırma problemleri için uygundur.\n",
    "- **Değerlendirme Metriği**: `Accuracy`\n",
    "  - Modelin doğru sınıflandırma oranını ölçmek için kullanılır.\n",
    " \n",
    "## 2. Eğitim verisinin çeşitlendirilmesi, modelin genelleme kabiliyetini artırır. Keras ImageDataGenerator sınıfı, veri artırma işlemi için kullanılmıştır.\n",
    "\n",
    "**Uygulanan Teknikler:** \n",
    " - **Döndürme:** Görüntüler rastgele 20 dereceye kadar döndürülmüştür.\n",
    " - **Kaydırma:** Görüntüler yatay ve dikeyde %10 oranında kaydırılmıştır.\n",
    " - **Yatay Çevirme:** Görüntüler yatay olarak ters çevrilebilir.\n",
    "\n",
    "## 3. Eğitim Süreci\n",
    "Model, aşağıdaki ayarlar ile eğitilmiştir:\n",
    "\n",
    " - **Epoch Sayısı:** 20\n",
    " - **Batch Boyutu:** 32\n",
    " - **Adım Sayıları:**\n",
    "  - **Eğitim için:** steps_per_epoch = len(X_train) // 32\n",
    "  - **Doğrulama için:** validation_steps = len(X_test) // 32\n",
    "\n",
    "## 4. Model Eğitimi Süreci\n",
    "Model, her bir epoch sonunda doğruluk ve kayıp değerlerini raporlar:\n",
    "\n",
    " - **Eğitim Doğruluğu ve Kaybı**: Eğitim veri seti üzerinde hesaplanır.\n",
    " - **Doğrulama Doğruluğu ve Kaybı:** Modelin doğrulama veri seti üzerindeki performansını ölçer.\n",
    "Bu süreç sonunda, modelin aşırı öğrenme (overfitting) olmadan daha iyi genelleme yapması sağlanır. Eğitim sonrası performans analizi için history nesnesi kullanılabilir.\n"
   ]
  },
  {
   "cell_type": "code",
   "execution_count": 25,
   "metadata": {
    "execution": {
     "iopub.execute_input": "2024-12-21T11:17:41.161670Z",
     "iopub.status.busy": "2024-12-21T11:17:41.161443Z",
     "iopub.status.idle": "2024-12-21T11:21:12.685955Z",
     "shell.execute_reply": "2024-12-21T11:21:12.685286Z",
     "shell.execute_reply.started": "2024-12-21T11:17:41.161648Z"
    }
   },
   "outputs": [
    {
     "name": "stdout",
     "output_type": "stream",
     "text": [
      "Epoch 1/20\n",
      "\u001b[1m142/142\u001b[0m \u001b[32m━━━━━━━━━━━━━━━━━━━━\u001b[0m\u001b[37m\u001b[0m \u001b[1m23s\u001b[0m 147ms/step - accuracy: 0.1985 - loss: 4.6768 - val_accuracy: 0.3573 - val_loss: 1.8017\n",
      "Epoch 2/20\n",
      "\u001b[1m142/142\u001b[0m \u001b[32m━━━━━━━━━━━━━━━━━━━━\u001b[0m\u001b[37m\u001b[0m \u001b[1m0s\u001b[0m 2ms/step - accuracy: 0.2812 - loss: 1.9747 - val_accuracy: 0.2000 - val_loss: 1.8191\n",
      "Epoch 3/20\n",
      "\u001b[1m142/142\u001b[0m \u001b[32m━━━━━━━━━━━━━━━━━━━━\u001b[0m\u001b[37m\u001b[0m \u001b[1m21s\u001b[0m 140ms/step - accuracy: 0.4264 - loss: 1.6104 - val_accuracy: 0.4542 - val_loss: 1.5767\n",
      "Epoch 4/20\n",
      "\u001b[1m142/142\u001b[0m \u001b[32m━━━━━━━━━━━━━━━━━━━━\u001b[0m\u001b[37m\u001b[0m \u001b[1m0s\u001b[0m 595us/step - accuracy: 0.5625 - loss: 1.3179 - val_accuracy: 0.4667 - val_loss: 1.4840\n",
      "Epoch 5/20\n",
      "\u001b[1m142/142\u001b[0m \u001b[32m━━━━━━━━━━━━━━━━━━━━\u001b[0m\u001b[37m\u001b[0m \u001b[1m21s\u001b[0m 141ms/step - accuracy: 0.4780 - loss: 1.5029 - val_accuracy: 0.4370 - val_loss: 1.6782\n",
      "Epoch 6/20\n",
      "\u001b[1m142/142\u001b[0m \u001b[32m━━━━━━━━━━━━━━━━━━━━\u001b[0m\u001b[37m\u001b[0m \u001b[1m0s\u001b[0m 594us/step - accuracy: 0.4062 - loss: 1.4933 - val_accuracy: 0.4000 - val_loss: 1.5882\n",
      "Epoch 7/20\n",
      "\u001b[1m142/142\u001b[0m \u001b[32m━━━━━━━━━━━━━━━━━━━━\u001b[0m\u001b[37m\u001b[0m \u001b[1m21s\u001b[0m 143ms/step - accuracy: 0.5184 - loss: 1.4209 - val_accuracy: 0.5047 - val_loss: 1.4661\n",
      "Epoch 8/20\n",
      "\u001b[1m142/142\u001b[0m \u001b[32m━━━━━━━━━━━━━━━━━━━━\u001b[0m\u001b[37m\u001b[0m \u001b[1m0s\u001b[0m 591us/step - accuracy: 0.4688 - loss: 1.2647 - val_accuracy: 0.6333 - val_loss: 1.2977\n",
      "Epoch 9/20\n",
      "\u001b[1m142/142\u001b[0m \u001b[32m━━━━━━━━━━━━━━━━━━━━\u001b[0m\u001b[37m\u001b[0m \u001b[1m21s\u001b[0m 142ms/step - accuracy: 0.5300 - loss: 1.3820 - val_accuracy: 0.5490 - val_loss: 1.3593\n",
      "Epoch 10/20\n",
      "\u001b[1m142/142\u001b[0m \u001b[32m━━━━━━━━━━━━━━━━━━━━\u001b[0m\u001b[37m\u001b[0m \u001b[1m0s\u001b[0m 602us/step - accuracy: 0.5000 - loss: 1.4099 - val_accuracy: 0.6667 - val_loss: 1.0289\n",
      "Epoch 11/20\n",
      "\u001b[1m142/142\u001b[0m \u001b[32m━━━━━━━━━━━━━━━━━━━━\u001b[0m\u001b[37m\u001b[0m \u001b[1m21s\u001b[0m 139ms/step - accuracy: 0.5498 - loss: 1.3048 - val_accuracy: 0.5245 - val_loss: 1.4266\n",
      "Epoch 12/20\n",
      "\u001b[1m142/142\u001b[0m \u001b[32m━━━━━━━━━━━━━━━━━━━━\u001b[0m\u001b[37m\u001b[0m \u001b[1m0s\u001b[0m 597us/step - accuracy: 0.5000 - loss: 1.6864 - val_accuracy: 0.5333 - val_loss: 1.3734\n",
      "Epoch 13/20\n",
      "\u001b[1m142/142\u001b[0m \u001b[32m━━━━━━━━━━━━━━━━━━━━\u001b[0m\u001b[37m\u001b[0m \u001b[1m21s\u001b[0m 140ms/step - accuracy: 0.5671 - loss: 1.2475 - val_accuracy: 0.5604 - val_loss: 1.3047\n",
      "Epoch 14/20\n",
      "\u001b[1m142/142\u001b[0m \u001b[32m━━━━━━━━━━━━━━━━━━━━\u001b[0m\u001b[37m\u001b[0m \u001b[1m0s\u001b[0m 607us/step - accuracy: 0.6250 - loss: 1.3277 - val_accuracy: 0.5333 - val_loss: 1.0627\n",
      "Epoch 15/20\n",
      "\u001b[1m142/142\u001b[0m \u001b[32m━━━━━━━━━━━━━━━━━━━━\u001b[0m\u001b[37m\u001b[0m \u001b[1m21s\u001b[0m 143ms/step - accuracy: 0.5759 - loss: 1.2414 - val_accuracy: 0.5714 - val_loss: 1.2920\n",
      "Epoch 16/20\n",
      "\u001b[1m142/142\u001b[0m \u001b[32m━━━━━━━━━━━━━━━━━━━━\u001b[0m\u001b[37m\u001b[0m \u001b[1m0s\u001b[0m 640us/step - accuracy: 0.3750 - loss: 1.4882 - val_accuracy: 0.6667 - val_loss: 1.1915\n",
      "Epoch 17/20\n",
      "\u001b[1m142/142\u001b[0m \u001b[32m━━━━━━━━━━━━━━━━━━━━\u001b[0m\u001b[37m\u001b[0m \u001b[1m21s\u001b[0m 140ms/step - accuracy: 0.5912 - loss: 1.2240 - val_accuracy: 0.5625 - val_loss: 1.2626\n",
      "Epoch 18/20\n",
      "\u001b[1m142/142\u001b[0m \u001b[32m━━━━━━━━━━━━━━━━━━━━\u001b[0m\u001b[37m\u001b[0m \u001b[1m0s\u001b[0m 607us/step - accuracy: 0.5938 - loss: 1.2169 - val_accuracy: 0.6000 - val_loss: 0.9615\n",
      "Epoch 19/20\n",
      "\u001b[1m142/142\u001b[0m \u001b[32m━━━━━━━━━━━━━━━━━━━━\u001b[0m\u001b[37m\u001b[0m \u001b[1m21s\u001b[0m 142ms/step - accuracy: 0.5857 - loss: 1.1923 - val_accuracy: 0.5375 - val_loss: 1.3439\n",
      "Epoch 20/20\n",
      "\u001b[1m142/142\u001b[0m \u001b[32m━━━━━━━━━━━━━━━━━━━━\u001b[0m\u001b[37m\u001b[0m \u001b[1m0s\u001b[0m 607us/step - accuracy: 0.6250 - loss: 1.0520 - val_accuracy: 0.5333 - val_loss: 1.5960\n"
     ]
    }
   ],
   "source": [
    "# Modeli derleme\n",
    "model.compile(\n",
    "    optimizer='adam',               # Optimizasyon algoritması\n",
    "    loss='categorical_crossentropy', # Kayıp fonksiyonu\n",
    "    metrics=['accuracy']            # Değerlendirme metriği\n",
    ")\n",
    "\n",
    "# Veri artırma (Data Augmentation)\n",
    "datagen = ImageDataGenerator(\n",
    "    rotation_range=20,\n",
    "    width_shift_range=0.1,\n",
    "    height_shift_range=0.1,\n",
    "    horizontal_flip=True\n",
    ")\n",
    "\n",
    "# Eğitim ve doğrulama jeneratörleri\n",
    "train_generator = datagen.flow(X_train, y_train, batch_size=32)\n",
    "validation_generator = datagen.flow(X_test, y_test, batch_size=32)\n",
    "\n",
    "# steps_per_epoch ve validation_steps hesaplama\n",
    "steps_per_epoch = len(X_train) // 32\n",
    "validation_steps = len(X_test) // 32\n",
    "\n",
    "# Modeli eğitme\n",
    "history = model.fit(\n",
    "    train_generator,\n",
    "    validation_data=validation_generator,\n",
    "    epochs=20,\n",
    "    steps_per_epoch=steps_per_epoch,\n",
    "    validation_steps=validation_steps\n",
    ")"
   ]
  },
  {
   "cell_type": "markdown",
   "metadata": {},
   "source": [
    "# 8) Modelin Eğitilmesi ve Performans Analizi ⏳\n",
    "\n",
    "Bu bölümde, CNN modeli eğitilmiş ve modelin eğitim sürecinde elde ettiği doğruluk değerleri görselleştirilmiştir.\n",
    "\n",
    "---\n",
    "\n",
    "## 1. Modelin Eğitilmesi\n",
    "\n",
    "Model, aşağıdaki ayarlarla eğitilmiştir:\n",
    "- **Veri Jeneratörü**: Eğitim verisi artırma işlemi için `ImageDataGenerator` kullanılmıştır.\n",
    "- **Validation Data**: Doğrulama veri seti, `validation_data` parametresi ile belirtilmiştir.\n",
    "- **Epoch Sayısı**: 15\n",
    "- **Batch Boyutu**: 32\n",
    "\n",
    "## 2. Performans Grafiği\n",
    "\n",
    "Eğitim süreci boyunca, modelin doğruluk değerleri görselleştirilmiştir:\n",
    "\n",
    " - **Eğitim Doğruluğu (accuracy):** Eğitim veri setindeki doğruluk oranını gösterir.\n",
    " - **Doğrulama Doğruluğu (val_accuracy):** Modelin doğrulama veri setindeki genelleme performansını temsil eder.\n",
    "\n",
    "## 3. Grafiğin Yorumlanması:\n",
    "\n",
    " - **Eğitim Doğruluğu:** Modelin, eğitim verileri üzerindeki başarısını temsil eder.\n",
    " - **Doğrulama Doğruluğu:** Modelin, görülmemiş doğrulama verileri üzerindeki başarısını gösterir.\n",
    "Eğer doğrulama doğruluğu, eğitim doğruluğuna kıyasla düşükse model aşırı öğreniyor (overfitting) olabilir.\n",
    "\n",
    "## Önemli Notlar:\n",
    " - **Epoch Sayısı:** Eğitim sürecinde model performansını gözlemleyerek epoch sayısı artırılabilir veya azaltılabilir.\n",
    " - **Overfitting Kontrolü:** Doğrulama doğruluğu ile eğitim doğruluğu arasındaki fark gözlemlenerek, aşırı öğrenme durumları tespit edilebilir.\n",
    " - **Grafik Analizi:** Eğitim süreci boyunca doğruluk değerlerinin artması beklenir. Ancak doğrulama doğruluğu sabit veya azalıyorsa model genelleme yeteneğini kaybediyor olabilir."
   ]
  },
  {
   "cell_type": "code",
   "execution_count": 26,
   "metadata": {
    "execution": {
     "iopub.execute_input": "2024-12-21T11:21:12.687412Z",
     "iopub.status.busy": "2024-12-21T11:21:12.687171Z",
     "iopub.status.idle": "2024-12-21T11:25:00.617791Z",
     "shell.execute_reply": "2024-12-21T11:25:00.616946Z",
     "shell.execute_reply.started": "2024-12-21T11:21:12.687391Z"
    }
   },
   "outputs": [
    {
     "name": "stdout",
     "output_type": "stream",
     "text": [
      "Epoch 1/15\n",
      "\u001b[1m143/143\u001b[0m \u001b[32m━━━━━━━━━━━━━━━━━━━━\u001b[0m\u001b[37m\u001b[0m \u001b[1m17s\u001b[0m 112ms/step - accuracy: 0.6047 - loss: 1.1569 - val_accuracy: 0.5682 - val_loss: 1.3194\n",
      "Epoch 2/15\n",
      "\u001b[1m143/143\u001b[0m \u001b[32m━━━━━━━━━━━━━━━━━━━━\u001b[0m\u001b[37m\u001b[0m \u001b[1m15s\u001b[0m 99ms/step - accuracy: 0.6033 - loss: 1.1593 - val_accuracy: 0.5800 - val_loss: 1.2646\n",
      "Epoch 3/15\n",
      "\u001b[1m143/143\u001b[0m \u001b[32m━━━━━━━━━━━━━━━━━━━━\u001b[0m\u001b[37m\u001b[0m \u001b[1m15s\u001b[0m 99ms/step - accuracy: 0.6021 - loss: 1.1499 - val_accuracy: 0.5862 - val_loss: 1.2662\n",
      "Epoch 4/15\n",
      "\u001b[1m143/143\u001b[0m \u001b[32m━━━━━━━━━━━━━━━━━━━━\u001b[0m\u001b[37m\u001b[0m \u001b[1m15s\u001b[0m 100ms/step - accuracy: 0.6142 - loss: 1.1150 - val_accuracy: 0.6062 - val_loss: 1.1924\n",
      "Epoch 5/15\n",
      "\u001b[1m143/143\u001b[0m \u001b[32m━━━━━━━━━━━━━━━━━━━━\u001b[0m\u001b[37m\u001b[0m \u001b[1m15s\u001b[0m 99ms/step - accuracy: 0.6319 - loss: 1.0692 - val_accuracy: 0.6010 - val_loss: 1.2054\n",
      "Epoch 6/15\n",
      "\u001b[1m143/143\u001b[0m \u001b[32m━━━━━━━━━━━━━━━━━━━━\u001b[0m\u001b[37m\u001b[0m \u001b[1m15s\u001b[0m 100ms/step - accuracy: 0.6163 - loss: 1.0885 - val_accuracy: 0.6221 - val_loss: 1.1435\n",
      "Epoch 7/15\n",
      "\u001b[1m143/143\u001b[0m \u001b[32m━━━━━━━━━━━━━━━━━━━━\u001b[0m\u001b[37m\u001b[0m \u001b[1m15s\u001b[0m 99ms/step - accuracy: 0.6465 - loss: 1.0554 - val_accuracy: 0.6200 - val_loss: 1.1614\n",
      "Epoch 8/15\n",
      "\u001b[1m143/143\u001b[0m \u001b[32m━━━━━━━━━━━━━━━━━━━━\u001b[0m\u001b[37m\u001b[0m \u001b[1m15s\u001b[0m 100ms/step - accuracy: 0.6407 - loss: 1.0733 - val_accuracy: 0.6215 - val_loss: 1.1410\n",
      "Epoch 9/15\n",
      "\u001b[1m143/143\u001b[0m \u001b[32m━━━━━━━━━━━━━━━━━━━━\u001b[0m\u001b[37m\u001b[0m \u001b[1m15s\u001b[0m 99ms/step - accuracy: 0.6535 - loss: 1.0202 - val_accuracy: 0.6072 - val_loss: 1.1973\n",
      "Epoch 10/15\n",
      "\u001b[1m143/143\u001b[0m \u001b[32m━━━━━━━━━━━━━━━━━━━━\u001b[0m\u001b[37m\u001b[0m \u001b[1m16s\u001b[0m 104ms/step - accuracy: 0.6461 - loss: 1.0325 - val_accuracy: 0.6164 - val_loss: 1.1413\n",
      "Epoch 11/15\n",
      "\u001b[1m143/143\u001b[0m \u001b[32m━━━━━━━━━━━━━━━━━━━━\u001b[0m\u001b[37m\u001b[0m \u001b[1m15s\u001b[0m 100ms/step - accuracy: 0.6367 - loss: 1.0322 - val_accuracy: 0.6226 - val_loss: 1.1498\n",
      "Epoch 12/15\n",
      "\u001b[1m143/143\u001b[0m \u001b[32m━━━━━━━━━━━━━━━━━━━━\u001b[0m\u001b[37m\u001b[0m \u001b[1m15s\u001b[0m 99ms/step - accuracy: 0.6605 - loss: 0.9984 - val_accuracy: 0.6210 - val_loss: 1.1397\n",
      "Epoch 13/15\n",
      "\u001b[1m143/143\u001b[0m \u001b[32m━━━━━━━━━━━━━━━━━━━━\u001b[0m\u001b[37m\u001b[0m \u001b[1m15s\u001b[0m 100ms/step - accuracy: 0.6565 - loss: 0.9615 - val_accuracy: 0.5913 - val_loss: 1.2828\n",
      "Epoch 14/15\n",
      "\u001b[1m143/143\u001b[0m \u001b[32m━━━━━━━━━━━━━━━━━━━━\u001b[0m\u001b[37m\u001b[0m \u001b[1m15s\u001b[0m 100ms/step - accuracy: 0.6528 - loss: 0.9986 - val_accuracy: 0.6185 - val_loss: 1.1835\n",
      "Epoch 15/15\n",
      "\u001b[1m143/143\u001b[0m \u001b[32m━━━━━━━━━━━━━━━━━━━━\u001b[0m\u001b[37m\u001b[0m \u001b[1m15s\u001b[0m 100ms/step - accuracy: 0.6537 - loss: 0.9961 - val_accuracy: 0.6359 - val_loss: 1.1164\n"
     ]
    },
    {
     "data": {
      "image/png": "[encoded data removed]",
      "text/plain": [
       "<Figure size 640x480 with 1 Axes>"
      ]
     },
     "metadata": {},
     "output_type": "display_data"
    }
   ],
   "source": [
    "# Modeli eğitme\n",
    "history = model.fit(datagen.flow(X_train, y_train, batch_size=32),\n",
    "                    validation_data=(X_test, y_test),\n",
    "                    epochs=15)\n",
    "\n",
    "# Eğitim ve doğrulama sonuçlarının grafiği\n",
    "plt.plot(history.history['accuracy'], label='Eğitim Doğruluğu')\n",
    "plt.plot(history.history['val_accuracy'], label='Doğrulama Doğruluğu')\n",
    "plt.legend()\n",
    "plt.title(\"Modelin Eğitim ve Test Performansı\")\n",
    "plt.xlabel(\"Epoch\")\n",
    "plt.ylabel(\"Doğruluk\")\n",
    "plt.show()"
   ]
  },
  {
   "cell_type": "markdown",
   "metadata": {},
   "source": [
    "# 9) Görüntü Manipülasyonu ve Model Performansının Değerlendirilmesi 🏝\n",
    "\n",
    "Bu bölümde, test veri setindeki görüntüler manipüle edilerek modelin bu manipüle edilmiş veriler üzerindeki performansı ölçülmüştür. Görüntü manipülasyonu, parlaklık artırma işlemi ile gerçekleştirilmiştir.\n",
    "\n",
    "---\n",
    "\n",
    "## 1. Görüntü Manipülasyonu\n",
    "\n",
    "Manipülasyon işlemi, **OpenCV**'nin `convertScaleAbs` fonksiyonu ile yapılmıştır:\n",
    "- **`alpha=1.5`**: Görüntünün kontrastını artırır.\n",
    "- **`beta=30`**: Görüntünün parlaklığını artırır.\n",
    "  \n",
    "## 2. Model Performansının Değerlendirilmesi\n",
    "Manipüle edilmiş görüntüler kullanılarak, modelin doğruluk oranı ölçülmüştür:\n",
    "\n",
    " - **model.evaluate:** Manipüle edilmiş test veri seti üzerindeki kayıp ve doğruluk değerlerini hesaplar.\n"
   ]
  },
  {
   "cell_type": "code",
   "execution_count": 27,
   "metadata": {
    "execution": {
     "iopub.execute_input": "2024-12-21T11:25:00.618950Z",
     "iopub.status.busy": "2024-12-21T11:25:00.618701Z",
     "iopub.status.idle": "2024-12-21T11:25:01.651114Z",
     "shell.execute_reply": "2024-12-21T11:25:01.650248Z",
     "shell.execute_reply.started": "2024-12-21T11:25:00.618905Z"
    }
   },
   "outputs": [
    {
     "name": "stdout",
     "output_type": "stream",
     "text": [
      "\u001b[1m61/61\u001b[0m \u001b[32m━━━━━━━━━━━━━━━━━━━━\u001b[0m\u001b[37m\u001b[0m \u001b[1m1s\u001b[0m 6ms/step - accuracy: 0.0969 - loss: 389.7537\n",
      "Manipüle Edilmiş Test Doğruluğu: 9.69%\n"
     ]
    }
   ],
   "source": [
    "# Görüntü manipülasyonu (örneğin parlaklık artırma)\n",
    "def manipulate_images(images):\n",
    "    manipulated_images = []\n",
    "    for img in images:\n",
    "        manipulated = cv2.convertScaleAbs(img, alpha=1.5, beta=30)  # Parlaklık artırma\n",
    "        manipulated_images.append(manipulated)\n",
    "    return np.array(manipulated_images)\n",
    "\n",
    "X_test_manipulated = manipulate_images(X_test)\n",
    "manipulated_loss, manipulated_accuracy = model.evaluate(X_test_manipulated, y_test)\n",
    "print(f\"Manipüle Edilmiş Test Doğruluğu: {manipulated_accuracy * 100:.2f}%\")"
   ]
  },
  {
   "cell_type": "markdown",
   "metadata": {},
   "source": [
    "# 10) Manipüle Edilmiş Test Seti ile Modeli Test Etme\n",
    "\n",
    "Bu adımda, daha önce ışık koşullarını manipüle ettiğimiz test seti kullanılarak modelin performansı yeniden değerlendirilmiştir. Manipülasyon, görsellerin parlaklık ve kontrast gibi özelliklerini değiştirerek, modelin değişen ışık koşullarına karşı ne kadar sağlam olduğunu ölçmek için yapıldı.\n",
    "\n",
    "## İşlem ve Sonuç 🔍:\n",
    " - **Manipülasyon:** Test setindeki her bir görselin parlaklık ve kontrast ayarları değiştirildi, böylece modelin görsellerdeki bu tür değişikliklere adaptasyon yeteneği test edildi.\n",
    " - **Test:** Manipüle edilmiş veri setiyle modelin doğruluk oranı değerlendirildi. Bu işlem, modelin çevresel faktörlerden nasıl etkilendiğini gözler önüne serer.\n",
    "\n",
    "## Amaç 🎯 : \n",
    " - Modelin sadece temiz veriyle değil, aynı zamanda gerçek dünyada karşılaşabileceği farklı ışık koşullarında da doğru sonuçlar verip vermediğini test etmekti. Bu sayede, modelin genelleme yeteneği daha da güçlendirildi.\n",
    "## Sonuç 📊 : \n",
    " - Manipüle edilmiş test seti ile yapılan test, modelin ışık değişimlerine karşı gösterdiği dayanıklılığı belirler."
   ]
  },
  {
   "cell_type": "code",
   "execution_count": 28,
   "metadata": {
    "execution": {
     "iopub.execute_input": "2024-12-21T11:25:01.655841Z",
     "iopub.status.busy": "2024-12-21T11:25:01.655599Z",
     "iopub.status.idle": "2024-12-21T11:25:02.019751Z",
     "shell.execute_reply": "2024-12-21T11:25:02.019101Z",
     "shell.execute_reply.started": "2024-12-21T11:25:01.655819Z"
    }
   },
   "outputs": [
    {
     "name": "stdout",
     "output_type": "stream",
     "text": [
      "\u001b[1m61/61\u001b[0m \u001b[32m━━━━━━━━━━━━━━━━━━━━\u001b[0m\u001b[37m\u001b[0m \u001b[1m0s\u001b[0m 3ms/step - accuracy: 0.0969 - loss: 389.7537\n",
      "Manipüle Edilmiş Test Seti Doğruluk: 0.09692307561635971\n"
     ]
    }
   ],
   "source": [
    "# Manipüle edilmiş test seti üzerinde test etme\n",
    "test_loss, test_accuracy = model.evaluate(X_test_manipulated, y_test)\n",
    "print(f\"Manipüle Edilmiş Test Seti Doğruluk: {test_accuracy}\")"
   ]
  },
  {
   "cell_type": "markdown",
   "metadata": {},
   "source": [
    "# 11) Renk Sabitliği Algoritması Uygulama ve Test Etme\n",
    "\n",
    "## 📊 Model Doğruluk Sonuçlarının Karşılaştırılması¶\n",
    "Bu aşamada, modelin farklı veri kümeleri üzerinde gösterdiği performanslar karşılaştırıldı:\n",
    "\n",
    "## Orijinal Test Seti\n",
    " - **Açıklama:** Model, herhangi bir manipülasyon yapılmadan, orijinal test verisi üzerinde değerlendirildi.\n",
    " - **Amaç:** Modelin temel doğruluğunu ölçmek.\n",
    " - **Sonuç:** Orijinal test seti doğruluğu: 63.59%.\n",
    "\n",
    "## Manipüle Edilmiş Test Seti (Işık Koşulları Değişimi)\n",
    " - **Açıklama:** Test verilerine ışık koşulları manipülasyonu uygulandı, örneğin parlaklık ve kontrast değiştirildi.\n",
    " - **Amaç:** Modelin manipülasyonlara karşı dayanıklılığını test etmek.\n",
    " - **Sonuç:** Manipüle edilmiş test seti doğruluğu: 9.69%.\n",
    "   \n",
    "## Renk Sabitliği Uygulanmış Test Seti\n",
    " - **Açıklama:** Manipüle edilmiş test setine Gray World algoritması ile renk sabitliği uygulandı. Bu işlem, renk dengesizliklerini düzelterek görsellerin daha tutarlı hale getirilmesini sağlar.\n",
    " - **Amaç:** Manipüle edilmiş görsellerin renk dengesini iyileştirerek model doğruluğunu artırmak.\n",
    " - **Sonuç:** Renk sabitliği uygulanmış test seti doğruluğu: 9.69%."
   ]
  },
  {
   "cell_type": "code",
   "execution_count": 29,
   "metadata": {
    "execution": {
     "iopub.execute_input": "2024-12-21T11:25:02.020863Z",
     "iopub.status.busy": "2024-12-21T11:25:02.020545Z",
     "iopub.status.idle": "2024-12-21T11:25:02.741528Z",
     "shell.execute_reply": "2024-12-21T11:25:02.740820Z",
     "shell.execute_reply.started": "2024-12-21T11:25:02.020831Z"
    }
   },
   "outputs": [
    {
     "name": "stdout",
     "output_type": "stream",
     "text": [
      "\u001b[1m61/61\u001b[0m \u001b[32m━━━━━━━━━━━━━━━━━━━━\u001b[0m\u001b[37m\u001b[0m \u001b[1m0s\u001b[0m 3ms/step - accuracy: 0.0969 - loss: 383.5475\n",
      "Renk Sabitliği Uygulanmış Test Doğruluğu: 9.69%\n"
     ]
    }
   ],
   "source": [
    "# Gray World algoritması (örnek)\n",
    "def gray_world(images):\n",
    "    wb_images = []\n",
    "    for img in images:\n",
    "        avg_b = np.mean(img[:, :, 0])\n",
    "        avg_g = np.mean(img[:, :, 1])\n",
    "        avg_r = np.mean(img[:, :, 2])\n",
    "        avg_gray = (avg_b + avg_g + avg_r) / 3\n",
    "        img[:, :, 0] = img[:, :, 0] * (avg_gray / avg_b)\n",
    "        img[:, :, 1] = img[:, :, 1] * (avg_gray / avg_g)\n",
    "        img[:, :, 2] = img[:, :, 2] * (avg_gray / avg_r)\n",
    "        wb_images.append(img)\n",
    "    return np.array(wb_images)\n",
    "\n",
    "# Manipüle edilmiş test verisine Gray World algoritmasını uygulama\n",
    "X_test_corrected = gray_world(X_test_manipulated)\n",
    "\n",
    "# Modeli renk sabitliği uygulanmış test setiyle değerlendirme\n",
    "corrected_loss, corrected_accuracy = model.evaluate(X_test_corrected, y_test)\n",
    "print(f\"Renk Sabitliği Uygulanmış Test Doğruluğu: {corrected_accuracy * 100:.2f}%\")"
   ]
  },
  {
   "cell_type": "markdown",
   "metadata": {},
   "source": [
    "# 📌 Model Test Edilmesi:¶\n",
    "## Sonuçlar\n",
    " - **Gözlemler:** Orijinal test seti ile manipüle edilmiş test seti arasında doğrulukta büyük bir düşüş gözlemlendi.\n",
    " - **İyileştirme:** Renk sabitliği uygulanması, doğruluk oranını iyileştirmedi. Manipülasyon sonrası performans düşük kaldı.\n",
    " - **Genel Yorum:** Modelin, özellikle ışık koşullarındaki değişikliklere karşı çok duyarlı olduğu, ancak renk sabitliği gibi düzenlemelerin doğruluğu artırmak için yeterli olmadığı söylenebilir.\n",
    "   \n",
    "Bu analiz, modelin çevresel faktörlere karşı ne kadar duyarlı olduğunu ve manipülasyonlara karşı nasıl performans gösterdiğini ortaya koymaktadır."
   ]
  },
  {
   "cell_type": "code",
   "execution_count": 30,
   "metadata": {
    "execution": {
     "iopub.execute_input": "2024-12-21T11:25:02.742561Z",
     "iopub.status.busy": "2024-12-21T11:25:02.742302Z",
     "iopub.status.idle": "2024-12-21T11:25:03.121703Z",
     "shell.execute_reply": "2024-12-21T11:25:03.121029Z",
     "shell.execute_reply.started": "2024-12-21T11:25:02.742541Z"
    }
   },
   "outputs": [
    {
     "name": "stdout",
     "output_type": "stream",
     "text": [
      "\u001b[1m61/61\u001b[0m \u001b[32m━━━━━━━━━━━━━━━━━━━━\u001b[0m\u001b[37m\u001b[0m \u001b[1m0s\u001b[0m 3ms/step - accuracy: 0.0969 - loss: 383.5475\n",
      "Renk Sabitliği Uygulanmış Test Seti Doğruluk: 0.09692307561635971\n"
     ]
    }
   ],
   "source": [
    "test_loss, test_accuracy = model.evaluate(X_test_corrected, y_test)\n",
    "print(f\"Renk Sabitliği Uygulanmış Test Seti Doğruluk: {test_accuracy}\")"
   ]
  },
  {
   "cell_type": "code",
   "execution_count": 31,
   "metadata": {
    "execution": {
     "iopub.execute_input": "2024-12-21T11:25:03.122709Z",
     "iopub.status.busy": "2024-12-21T11:25:03.122468Z",
     "iopub.status.idle": "2024-12-21T11:25:03.127612Z",
     "shell.execute_reply": "2024-12-21T11:25:03.126824Z",
     "shell.execute_reply.started": "2024-12-21T11:25:03.122689Z"
    }
   },
   "outputs": [
    {
     "name": "stdout",
     "output_type": "stream",
     "text": [
      "Sonuçlar:\n",
      "Orijinal Test Seti Doğruluğu: 9.69%\n",
      "Manipüle Edilmiş Test Seti Doğruluğu: 9.69%\n",
      "Renk Sabitliği Uygulanmış Test Seti Doğruluğu: 9.69%\n"
     ]
    }
   ],
   "source": [
    "# Test sonuçlarının karşılaştırılması\n",
    "print(\"Sonuçlar:\")\n",
    "print(f\"Orijinal Test Seti Doğruluğu: {test_accuracy * 100:.2f}%\")\n",
    "print(f\"Manipüle Edilmiş Test Seti Doğruluğu: {manipulated_accuracy * 100:.2f}%\")\n",
    "print(f\"Renk Sabitliği Uygulanmış Test Seti Doğruluğu: {corrected_accuracy * 100:.2f}%\")"
   ]
  },
  {
   "cell_type": "code",
   "execution_count": 32,
   "metadata": {
    "execution": {
     "iopub.execute_input": "2024-12-21T11:25:03.128703Z",
     "iopub.status.busy": "2024-12-21T11:25:03.128414Z",
     "iopub.status.idle": "2024-12-21T11:25:05.742851Z",
     "shell.execute_reply": "2024-12-21T11:25:05.741979Z",
     "shell.execute_reply.started": "2024-12-21T11:25:03.128670Z"
    }
   },
   "outputs": [
    {
     "name": "stdout",
     "output_type": "stream",
     "text": [
      "Orijinal Test Seti Doğruluğu: 63.59%\n",
      "Manipüle Edilmiş Test Seti Doğruluğu: 9.69%\n",
      "Renk Sabitliği Uygulanmış Test Seti Doğruluğu: 9.69%\n"
     ]
    }
   ],
   "source": [
    "# Orijinal test setinde doğruluk hesaplama\n",
    "test_loss, test_accuracy = model.evaluate(X_test, y_test, verbose=0)\n",
    "print(f\"Orijinal Test Seti Doğruluğu: {test_accuracy * 100:.2f}%\")\n",
    "\n",
    "# Manipüle edilmiş test setinde doğruluk hesaplama\n",
    "X_test_manipulated = manipulate_images(X_test)\n",
    "manipulated_loss, manipulated_accuracy = model.evaluate(X_test_manipulated, y_test, verbose=0)\n",
    "print(f\"Manipüle Edilmiş Test Seti Doğruluğu: {manipulated_accuracy * 100:.2f}%\")\n",
    "\n",
    "# Renk sabitliği uygulanmış test setinde doğruluk hesaplama\n",
    "X_test_corrected = gray_world(X_test_manipulated)\n",
    "corrected_loss, corrected_accuracy = model.evaluate(X_test_corrected, y_test, verbose=0)\n",
    "print(f\"Renk Sabitliği Uygulanmış Test Seti Doğruluğu: {corrected_accuracy * 100:.2f}%\")"
   ]
  }
 ],
 "metadata": {
  "kaggle": {
   "accelerator": "nvidiaTeslaT4",
   "dataSources": [
    {
     "datasetId": 1408532,
     "sourceId": 2333429,
     "sourceType": "datasetVersion"
    }
   ],
   "dockerImageVersionId": 30823,
   "isGpuEnabled": true,
   "isInternetEnabled": true,
   "language": "python",
   "sourceType": "notebook"
  },
  "kernelspec": {
   "display_name": "Python 3 (ipykernel)",
   "language": "python",
   "name": "python3"
  },
  "language_info": {
   "codemirror_mode": {
    "name": "ipython",
    "version": 3
   },
   "file_extension": ".py",
   "mimetype": "text/x-python",
   "name": "python",
   "nbconvert_exporter": "python",
   "pygments_lexer": "ipython3",
   "version": "3.12.4"
  }
 },
 "nbformat": 4,
 "nbformat_minor": 4
}
